{
 "cells": [
  {
   "cell_type": "markdown",
   "metadata": {},
   "source": [
    "<h1 align=\"center\" style=\"color:black\"> TITANIC DATA ANALYSIS </h1>"
   ]
  },
  {
   "cell_type": "markdown",
   "metadata": {},
   "source": [
    "## INTRODUCTION\n",
    "**Purpose:** Perform simple data analysis on Titanic Dataset.\n",
    "\n",
    "\"One of the reasons that the shipwreck led to such loss of life was that there were not enough lifeboats for the passengers and crew. Although there was some element of luck involved in surviving the sinking, some groups of people were more likely to survive than others, such as women, children, and the upper-class.\" -  https://www.kaggle.com/c/titanic\n",
    "\n",
    "The dataset contains information of 891 passengers on-board when the disaster happened. In this analysis, I examinate some factors that may contribute to the chance of survival.\n",
    "- **Q1: Were passenger class as a factor in survival rate? ** \n",
    "- **Q2: Did women have a better chance to survive than men?**\n",
    "- **Q3: Did children has a beter chance to survive than adults?**\n",
    "\n"
   ]
  },
  {
   "cell_type": "markdown",
   "metadata": {},
   "source": [
    "## DATA DESCRIPTION\n",
    "(from https://www.kaggle.com/c/titanic)\n",
    "\n",
    "VARIABLES\n",
    "- survival:        Survival (0 = No; 1 = Yes)               \n",
    "- pclass:          Passenger Class (1 = 1st; 2 = 2nd; 3 = 3rd)\n",
    "- name:            Name\n",
    "- sex:             Sex\n",
    "- age:             Age\n",
    "- sibsp:           Number of Siblings/Spouses Aboard\n",
    "- parch:           Number of Parents/Children Aboard\n",
    "- ticket:          Ticket Number\n",
    "- fare:            Passenger Fare\n",
    "- cabin:           Cabin\n",
    "- embarked:        Port of Embarkation (C = Cherbourg; Q = Queenstown; S = Southampton)              \n",
    "\n",
    "SPECIAL NOTES:\n",
    "\n",
    "- Pclass is a proxy for socio-economic status (SES) 1st ~ Upper; 2nd ~ Middle; 3rd ~ Lower\n",
    "- Age is in Years; Fractional if Age less than One (1).If the Age is Estimated, it is in the form xx.5\n",
    "\n",
    "With respect to the family relation variables (i.e. sibsp and parch)\n",
    "some relations were ignored.  The following are the definitions used\n",
    "for sibsp and parch.\n",
    "- Sibling:  Brother, Sister, Stepbrother, or Stepsister of Passenger Aboard Titanic\n",
    "- Spouse:   Husband or Wife of Passenger Aboard Titanic (Mistresses and Fiances Ignored)\n",
    "- Parent:   Mother or Father of Passenger Aboard Titanic\n",
    "- Child:    Son, Daughter, Stepson, or Stepdaughter of Passenger Aboard Titanic\n",
    "\n",
    "Other family relatives excluded from this study include cousins,\n",
    "nephews/nieces, aunts/uncles, and in-laws.  Some children travelled\n",
    "only with a nanny, therefore parch=0 for them.  As well, some\n",
    "travelled with very close friends or neighbors in a village, however,\n",
    "the definitions do not support such relations."
   ]
  },
  {
   "cell_type": "code",
   "execution_count": 160,
   "metadata": {
    "collapsed": false
   },
   "outputs": [],
   "source": [
    "import unicodecsv\n",
    "import pandas as pd\n",
    "%matplotlib inline\n",
    "import matplotlib.pyplot as plt\n",
    "import matplotlib\n",
    "matplotlib.style.use('ggplot')\n",
    "import seaborn as sns\n",
    "\n",
    "# passenger_info is a dataframe\n",
    "passenger_info = pd.read_csv('titanic-data.csv')"
   ]
  },
  {
   "cell_type": "markdown",
   "metadata": {},
   "source": [
    "Display the first several rows to see the data format"
   ]
  },
  {
   "cell_type": "code",
   "execution_count": 161,
   "metadata": {
    "collapsed": false
   },
   "outputs": [
    {
     "data": {
      "text/html": [
       "<div>\n",
       "<table border=\"1\" class=\"dataframe\">\n",
       "  <thead>\n",
       "    <tr style=\"text-align: right;\">\n",
       "      <th></th>\n",
       "      <th>PassengerId</th>\n",
       "      <th>Survived</th>\n",
       "      <th>Pclass</th>\n",
       "      <th>Name</th>\n",
       "      <th>Sex</th>\n",
       "      <th>Age</th>\n",
       "      <th>SibSp</th>\n",
       "      <th>Parch</th>\n",
       "      <th>Ticket</th>\n",
       "      <th>Fare</th>\n",
       "      <th>Cabin</th>\n",
       "      <th>Embarked</th>\n",
       "    </tr>\n",
       "  </thead>\n",
       "  <tbody>\n",
       "    <tr>\n",
       "      <th>0</th>\n",
       "      <td>1</td>\n",
       "      <td>0</td>\n",
       "      <td>3</td>\n",
       "      <td>Braund, Mr. Owen Harris</td>\n",
       "      <td>male</td>\n",
       "      <td>22.0</td>\n",
       "      <td>1</td>\n",
       "      <td>0</td>\n",
       "      <td>A/5 21171</td>\n",
       "      <td>7.2500</td>\n",
       "      <td>NaN</td>\n",
       "      <td>S</td>\n",
       "    </tr>\n",
       "    <tr>\n",
       "      <th>1</th>\n",
       "      <td>2</td>\n",
       "      <td>1</td>\n",
       "      <td>1</td>\n",
       "      <td>Cumings, Mrs. John Bradley (Florence Briggs Th...</td>\n",
       "      <td>female</td>\n",
       "      <td>38.0</td>\n",
       "      <td>1</td>\n",
       "      <td>0</td>\n",
       "      <td>PC 17599</td>\n",
       "      <td>71.2833</td>\n",
       "      <td>C85</td>\n",
       "      <td>C</td>\n",
       "    </tr>\n",
       "    <tr>\n",
       "      <th>2</th>\n",
       "      <td>3</td>\n",
       "      <td>1</td>\n",
       "      <td>3</td>\n",
       "      <td>Heikkinen, Miss. Laina</td>\n",
       "      <td>female</td>\n",
       "      <td>26.0</td>\n",
       "      <td>0</td>\n",
       "      <td>0</td>\n",
       "      <td>STON/O2. 3101282</td>\n",
       "      <td>7.9250</td>\n",
       "      <td>NaN</td>\n",
       "      <td>S</td>\n",
       "    </tr>\n",
       "    <tr>\n",
       "      <th>3</th>\n",
       "      <td>4</td>\n",
       "      <td>1</td>\n",
       "      <td>1</td>\n",
       "      <td>Futrelle, Mrs. Jacques Heath (Lily May Peel)</td>\n",
       "      <td>female</td>\n",
       "      <td>35.0</td>\n",
       "      <td>1</td>\n",
       "      <td>0</td>\n",
       "      <td>113803</td>\n",
       "      <td>53.1000</td>\n",
       "      <td>C123</td>\n",
       "      <td>S</td>\n",
       "    </tr>\n",
       "    <tr>\n",
       "      <th>4</th>\n",
       "      <td>5</td>\n",
       "      <td>0</td>\n",
       "      <td>3</td>\n",
       "      <td>Allen, Mr. William Henry</td>\n",
       "      <td>male</td>\n",
       "      <td>35.0</td>\n",
       "      <td>0</td>\n",
       "      <td>0</td>\n",
       "      <td>373450</td>\n",
       "      <td>8.0500</td>\n",
       "      <td>NaN</td>\n",
       "      <td>S</td>\n",
       "    </tr>\n",
       "  </tbody>\n",
       "</table>\n",
       "</div>"
      ],
      "text/plain": [
       "   PassengerId  Survived  Pclass  \\\n",
       "0            1         0       3   \n",
       "1            2         1       1   \n",
       "2            3         1       3   \n",
       "3            4         1       1   \n",
       "4            5         0       3   \n",
       "\n",
       "                                                Name     Sex   Age  SibSp  \\\n",
       "0                            Braund, Mr. Owen Harris    male  22.0      1   \n",
       "1  Cumings, Mrs. John Bradley (Florence Briggs Th...  female  38.0      1   \n",
       "2                             Heikkinen, Miss. Laina  female  26.0      0   \n",
       "3       Futrelle, Mrs. Jacques Heath (Lily May Peel)  female  35.0      1   \n",
       "4                           Allen, Mr. William Henry    male  35.0      0   \n",
       "\n",
       "   Parch            Ticket     Fare Cabin Embarked  \n",
       "0      0         A/5 21171   7.2500   NaN        S  \n",
       "1      0          PC 17599  71.2833   C85        C  \n",
       "2      0  STON/O2. 3101282   7.9250   NaN        S  \n",
       "3      0            113803  53.1000  C123        S  \n",
       "4      0            373450   8.0500   NaN        S  "
      ]
     },
     "execution_count": 161,
     "metadata": {},
     "output_type": "execute_result"
    }
   ],
   "source": [
    "passenger_info.head()"
   ]
  },
  {
   "cell_type": "markdown",
   "metadata": {},
   "source": [
    "## DATA WRANGLING"
   ]
  },
  {
   "cell_type": "markdown",
   "metadata": {},
   "source": [
    "** Step 1: Remove duplicated rows**\n",
    " "
   ]
  },
  {
   "cell_type": "code",
   "execution_count": 162,
   "metadata": {
    "collapsed": false
   },
   "outputs": [],
   "source": [
    "# remove all duplicated row\n",
    "passenger_info_cleaned = passenger_info.drop_duplicates()"
   ]
  },
  {
   "cell_type": "markdown",
   "metadata": {},
   "source": [
    "**Step 2: Drop unnecessary columns **\n",
    "\n",
    "The data contains some columns which are not helpfull for my analysis and these columns therefore can be removed."
   ]
  },
  {
   "cell_type": "code",
   "execution_count": 163,
   "metadata": {
    "collapsed": false
   },
   "outputs": [
    {
     "data": {
      "text/html": [
       "<div>\n",
       "<table border=\"1\" class=\"dataframe\">\n",
       "  <thead>\n",
       "    <tr style=\"text-align: right;\">\n",
       "      <th></th>\n",
       "      <th>Survived</th>\n",
       "      <th>Pclass</th>\n",
       "      <th>Sex</th>\n",
       "      <th>Age</th>\n",
       "    </tr>\n",
       "  </thead>\n",
       "  <tbody>\n",
       "    <tr>\n",
       "      <th>0</th>\n",
       "      <td>0</td>\n",
       "      <td>3</td>\n",
       "      <td>male</td>\n",
       "      <td>22.0</td>\n",
       "    </tr>\n",
       "    <tr>\n",
       "      <th>1</th>\n",
       "      <td>1</td>\n",
       "      <td>1</td>\n",
       "      <td>female</td>\n",
       "      <td>38.0</td>\n",
       "    </tr>\n",
       "    <tr>\n",
       "      <th>2</th>\n",
       "      <td>1</td>\n",
       "      <td>3</td>\n",
       "      <td>female</td>\n",
       "      <td>26.0</td>\n",
       "    </tr>\n",
       "    <tr>\n",
       "      <th>3</th>\n",
       "      <td>1</td>\n",
       "      <td>1</td>\n",
       "      <td>female</td>\n",
       "      <td>35.0</td>\n",
       "    </tr>\n",
       "    <tr>\n",
       "      <th>4</th>\n",
       "      <td>0</td>\n",
       "      <td>3</td>\n",
       "      <td>male</td>\n",
       "      <td>35.0</td>\n",
       "    </tr>\n",
       "  </tbody>\n",
       "</table>\n",
       "</div>"
      ],
      "text/plain": [
       "   Survived  Pclass     Sex   Age\n",
       "0         0       3    male  22.0\n",
       "1         1       1  female  38.0\n",
       "2         1       3  female  26.0\n",
       "3         1       1  female  35.0\n",
       "4         0       3    male  35.0"
      ]
     },
     "execution_count": 163,
     "metadata": {},
     "output_type": "execute_result"
    }
   ],
   "source": [
    "passenger_info_cleaned = passenger_info_cleaned.drop(['PassengerId','Name','SibSp','Parch','Ticket','Cabin','Fare','Embarked'], axis=1)\n",
    "passenger_info_cleaned.head()"
   ]
  },
  {
   "cell_type": "markdown",
   "metadata": {},
   "source": [
    "** Step 3: Fix any missing or data format issues **"
   ]
  },
  {
   "cell_type": "code",
   "execution_count": 164,
   "metadata": {
    "collapsed": false
   },
   "outputs": [
    {
     "name": "stdout",
     "output_type": "stream",
     "text": [
      "<class 'pandas.core.frame.DataFrame'>\n",
      "Int64Index: 891 entries, 0 to 890\n",
      "Data columns (total 4 columns):\n",
      "Survived    891 non-null int64\n",
      "Pclass      891 non-null int64\n",
      "Sex         891 non-null object\n",
      "Age         714 non-null float64\n",
      "dtypes: float64(1), int64(2), object(1)\n",
      "memory usage: 34.8+ KB\n"
     ]
    }
   ],
   "source": [
    "# Display the datatype to make sure ther is no data format issue\n",
    "passenger_info_cleaned.info()"
   ]
  },
  {
   "cell_type": "code",
   "execution_count": 165,
   "metadata": {
    "collapsed": false
   },
   "outputs": [
    {
     "data": {
      "text/plain": [
       "Survived      0\n",
       "Pclass        0\n",
       "Sex           0\n",
       "Age         177\n",
       "dtype: int64"
      ]
     },
     "execution_count": 165,
     "metadata": {},
     "output_type": "execute_result"
    }
   ],
   "source": [
    "# Compute number of missing value for each attribute column\n",
    "passenger_info_cleaned.isnull().sum(axis = 0)\n"
   ]
  },
  {
   "cell_type": "markdown",
   "metadata": {},
   "source": [
    "Missing data issue only happends at the 'Age' column. Therefore we  need to take into account when answering the Q3."
   ]
  },
  {
   "cell_type": "markdown",
   "metadata": {},
   "source": [
    "## Data Exploration "
   ]
  },
  {
   "cell_type": "markdown",
   "metadata": {
    "collapsed": true
   },
   "source": [
    "At the first step, we should look at some general statistic of the data. "
   ]
  },
  {
   "cell_type": "code",
   "execution_count": 166,
   "metadata": {
    "collapsed": false
   },
   "outputs": [],
   "source": [
    "def general_static_titanic_data(passenger_info_cleaned):\n",
    "    print \"Number of survival/total: {}/{} = {} %\".format((passenger_info_cleaned['Survived']==1).sum(),len(passenger_info_cleaned['Survived']), 100* (passenger_info_cleaned['Survived']==1).sum()*1.0/len(passenger_info_cleaned['Survived']))\n",
    "    \n",
    "    # compute number and percentage of women survive\n",
    "    women_survival =   passenger_info_cleaned.groupby(['Survived','Sex']).size().loc[0,'female']\n",
    "    total_women = passenger_info_cleaned.groupby(['Survived','Sex']).size().loc[:,'female'].sum()\n",
    "    \n",
    "    # compute number and percentage of women survive\n",
    "    men_survival =   passenger_info_cleaned.groupby(['Survived','Sex']).size().loc[0,'male']\n",
    "    total_men = passenger_info_cleaned.groupby(['Survived','Sex']).size().loc[:,'male'].sum()\n",
    "    \n",
    "    print \"Number of women survival/number of women: {}/{} = {} %\".format(women_survival,total_women,women_survival*100.0/total_women)\n",
    "    print \"Number of men survival/number of men: {}/{} = {} %\".format(men_survival,total_men,men_survival*100.0/total_men)\n",
    "    \n",
    "    print \"Youngest to survive: {}\".format(passenger_info_cleaned[passenger_info_cleaned['Survived'] == 1]['Age'].min())\n",
    "    print \"Youngest to die: {}\".format(passenger_info_cleaned[passenger_info_cleaned['Survived'] == 0]['Age'].min())\n",
    "    print \"Oldest to survive: {}\".format(passenger_info_cleaned[passenger_info_cleaned['Survived'] == 1]['Age'].max())\n",
    "    print \"Oldest to die: {}\".format(passenger_info_cleaned[passenger_info_cleaned['Survived'] == 0]['Age'].max())"
   ]
  },
  {
   "cell_type": "code",
   "execution_count": 167,
   "metadata": {
    "collapsed": false
   },
   "outputs": [
    {
     "name": "stdout",
     "output_type": "stream",
     "text": [
      "Number of survival/total: 342/891 = 38.3838383838 %\n",
      "Number of women survival/number of women: 81/314 = 25.7961783439 %\n",
      "Number of men survival/number of men: 468/577 = 81.1091854419 %\n",
      "Youngest to survive: 0.42\n",
      "Youngest to die: 1.0\n",
      "Oldest to survive: 80.0\n",
      "Oldest to die: 74.0\n"
     ]
    }
   ],
   "source": [
    "general_static_titanic_data(passenger_info_cleaned)"
   ]
  },
  {
   "cell_type": "markdown",
   "metadata": {},
   "source": [
    "** Q1: Were passenger class as a factor in survival rate?**\n",
    "\n",
    "To answer this question, we need to compute the raw number and survival percentage for each passenger class. More specifically, we compute the distribution or histogram of conditional probability P(Survived = 1 | Pclass = class)"
   ]
  },
  {
   "cell_type": "code",
   "execution_count": 168,
   "metadata": {
    "collapsed": false
   },
   "outputs": [],
   "source": [
    "def survival_groupby_class(passenger_info_cleaned, pclass):\n",
    "    passenger_info_cleaned_groupedby  = passenger_info_cleaned.groupby(['Survived','Pclass']).size()\n",
    "    survival_in_pclass  = passenger_info_cleaned_groupedby.loc[1,pclass]\n",
    "    total_passenger_in_pclass = passenger_info_cleaned_groupedby[:,pclass].sum()\n",
    "    return survival_in_pclass,total_passenger_in_pclass\n",
    "    \n",
    "\n"
   ]
  },
  {
   "cell_type": "code",
   "execution_count": 169,
   "metadata": {
    "collapsed": false
   },
   "outputs": [
    {
     "name": "stdout",
     "output_type": "stream",
     "text": [
      "Class 1: survival rate: 62.96%\n",
      "Class 2: survival rate: 47.28%\n",
      "Class 3: survival rate: 24.24%\n"
     ]
    }
   ],
   "source": [
    "class_1_survival, class_1_total = survival_groupby_class(passenger_info_cleaned, 1)\n",
    "class_2_survival, class_2_total = survival_groupby_class(passenger_info_cleaned, 2)\n",
    "class_3_survival, class_3_total = survival_groupby_class(passenger_info_cleaned, 3)\n",
    "\n",
    "#survival_rate_pclass\n",
    "print 'Class 1: survival rate: {}%'.format((100.0*class_1_survival/class_1_total).round(2))\n",
    "print 'Class 2: survival rate: {}%'.format((100.0*class_2_survival/class_2_total).round(2))\n",
    "print 'Class 3: survival rate: {}%'.format((100.0*class_3_survival/class_3_total).round(2))\n"
   ]
  },
  {
   "cell_type": "code",
   "execution_count": 170,
   "metadata": {
    "collapsed": false
   },
   "outputs": [
    {
     "data": {
      "image/png": "[encoded data removed]",
      "text/plain": [
       "<matplotlib.figure.Figure at 0x10a49cf8>"
      ]
     },
     "metadata": {},
     "output_type": "display_data"
    }
   ],
   "source": [
    "g1 = sns.factorplot('Survived', col='Pclass', data=passenger_info_cleaned, kind='count', size=8, aspect=.9)\n",
    "# Fix up the labels\n",
    "(g1.set_axis_labels('Suvival', 'No. of Passengers')\n",
    "    .set_xticklabels(['False', 'True'])\n",
    ")\n",
    "titles = ['Class 1', 'Class 2', 'Class 3']\n",
    "for ax, title in zip(g.axes.flat, titles):\n",
    "    ax.set_title(title)\n"
   ]
  },
  {
   "cell_type": "code",
   "execution_count": 171,
   "metadata": {
    "collapsed": false
   },
   "outputs": [
    {
     "data": {
      "image/png": "[encoded data removed]",
      "text/plain": [
       "<matplotlib.figure.Figure at 0x10a498d0>"
      ]
     },
     "metadata": {},
     "output_type": "display_data"
    }
   ],
   "source": [
    "# We also display number of passengers for each class\n",
    "g2 = passenger_info_cleaned.groupby(['Pclass']).size().plot(kind='bar',title='Number of passengers\\n')"
   ]
  },
  {
   "cell_type": "markdown",
   "metadata": {},
   "source": [
    "** Number of passengers and a survival percentage for each class**\n",
    "\n",
    "- *Class 1: 216, survival percentage: 62.96%*\n",
    "- *Class 2: 184, survival percentage: 47.28%*\n",
    "- *Class 3: 491, survival percentage: 24.24%*\n",
    "\n",
    "By reviewing the quantitative numbers for three passenger classes and the charts above, we can conclude that the passenger class clearly stands a factor to survival rate. In particular, passengers of class 1 likely have the best chance of survival when the disaster happened. It is possible that the cabin locations for each class  account for the different rates."
   ]
  },
  {
   "cell_type": "markdown",
   "metadata": {},
   "source": [
    "**Q2: Did women have a better chance to survive than men?**"
   ]
  },
  {
   "cell_type": "markdown",
   "metadata": {},
   "source": [
    "In this section, we need to compute the survival percentages for women and men. In order to avoid the bias of the data, the distribution of the number of women and men along with each Pclass need to be taken into account. \n",
    "\n",
    "P(Survived = 1 | Sex = women) > P(Survived = 1 | Sex = men) ?"
   ]
  },
  {
   "cell_type": "code",
   "execution_count": 172,
   "metadata": {
    "collapsed": false
   },
   "outputs": [],
   "source": [
    "def survival_rate_sex(passenger_info_cleaned,pclass):\n",
    "    passenger_info_cleaned_groupby_class = passenger_info_cleaned.groupby(['Survived','Sex','Pclass']).size()\n",
    "    number_men_pclass = passenger_info_cleaned_groupby_class.loc[:,'male',pclass].sum()\n",
    "    number_women_pclass = passenger_info_cleaned_groupby_class.loc[:,'female',pclass].sum()\n",
    "    \n",
    "    number_survival_men_pclass = passenger_info_cleaned_groupby_class.loc[1,'male',pclass].sum()\n",
    "    number_survival_women_pclass = passenger_info_cleaned_groupby_class.loc[1,'female',pclass].sum()\n",
    "    \n",
    "    print \"The number of men in class {}: {} and survival rate: {}%\".format(pclass,number_men_pclass,(100.0*number_survival_men_pclass/number_men_pclass).round(2))\n",
    "    print \"The number of women in class {}: {} and survival rate: {}%\".format(pclass,number_women_pclass,(100.0*number_survival_women_pclass/number_women_pclass).round(2))\n",
    "    return number_men_pclass,number_survival_men_pclass,number_women_pclass,number_survival_women_pclass"
   ]
  },
  {
   "cell_type": "code",
   "execution_count": 173,
   "metadata": {
    "collapsed": false
   },
   "outputs": [
    {
     "name": "stdout",
     "output_type": "stream",
     "text": [
      "The number of men in class 1: 122 and survival rate: 36.89%\n",
      "The number of women in class 1: 94 and survival rate: 96.81%\n",
      "The number of men in class 2: 108 and survival rate: 15.74%\n",
      "The number of women in class 2: 76 and survival rate: 92.11%\n",
      "The number of men in class 3: 347 and survival rate: 13.54%\n",
      "The number of women in class 3: 144 and survival rate: 50.0%\n"
     ]
    }
   ],
   "source": [
    "for i in xrange(1,4):\n",
    "    survival_rate_sex(passenger_info_cleaned,i)"
   ]
  },
  {
   "cell_type": "code",
   "execution_count": 174,
   "metadata": {
    "collapsed": false
   },
   "outputs": [
    {
     "data": {
      "text/plain": [
       "<seaborn.axisgrid.FacetGrid at 0x11326550>"
      ]
     },
     "execution_count": 174,
     "metadata": {},
     "output_type": "execute_result"
    },
    {
     "data": {
      "image/png": "[encoded data removed]",
      "text/plain": [
       "<matplotlib.figure.Figure at 0x11326cf8>"
      ]
     },
     "metadata": {},
     "output_type": "display_data"
    }
   ],
   "source": [
    "# Graph - Actual count of passengers by survival grouped by sex\n",
    "g = sns.factorplot('Survived', col='Sex', hue='Pclass', data=passenger_info_cleaned, kind='count', size=7, aspect=.8)\n",
    "(g.set_axis_labels('Suvivors', 'No. of Passengers')\n",
    "    .set_xticklabels([\"False\", \"True\"])\n",
    "    .set_titles('{col_name}')\n",
    ")\n"
   ]
  },
  {
   "cell_type": "markdown",
   "metadata": {
    "collapsed": true
   },
   "source": [
    "**Sex distributions and survival percentages along with passenger classes **\n",
    "- *The number of men in class 1: 122 and survival rate: 36.89%*\n",
    "- *The number of women in class 1: 94 and survival rate: 96.81%*\n",
    "- *The number of men in class 2: 108 and survival rate: 15.74%*\n",
    "- *The number of women in class 2: 76 and survival rate: 92.11%*\n",
    "- *The number of men in class 3: 347 and survival rate: 13.54%*\n",
    "- *The number of women in class 3: 144 and survival rate: 50.00%*"
   ]
  },
  {
   "cell_type": "markdown",
   "metadata": {},
   "source": [
    "Obviously, the women had a better chance to survive than men. Those numbers support the idea that \"lady first\" played a role in the survival rate. In pclass 3, more women didn't survive due to probably their cabin locations."
   ]
  },
  {
   "cell_type": "markdown",
   "metadata": {},
   "source": [
    "\n",
    "\n",
    "\n",
    "\n",
    "**Q3: Did children has a beter chance to survive than adults?**\n",
    "\n",
    "\n",
    "Since the data does not tell us who is an adult and who is a child, we need to assume a cut-off point. We consider those under 18 as children.\n",
    "\n",
    "In this question, we try to compute the distributions of P('survival' = 1 | 'Age' < 18, 'Pclass' = pclass) and P('survival' = 1 | 'Age' >=18, 'Pclass' = pclass)"
   ]
  },
  {
   "cell_type": "code",
   "execution_count": 182,
   "metadata": {
    "collapsed": false
   },
   "outputs": [],
   "source": [
    "# Function to compute number of survival children and its percentage along with passenger class\n",
    "def children_survival_info(passenger_info_cleaned, age_thres, pclass):\n",
    "    # input: passenger_info_cleaned - passenger information\n",
    "    #        age_thres - age cutoff point\n",
    "    #        pclass - passenger class\n",
    "    # Output: Number of survival children and its percentage\n",
    "    passenger_info_cleaned_by_pclass= passenger_info_cleaned[passenger_info_cleaned['Pclass'] ==pclass]\n",
    "    children_info_cleaned_by_pclass = passenger_info_cleaned_by_pclass[passenger_info_cleaned_by_pclass['Age']<age_thres]\n",
    "    number_of_survival_children = len(children_info_cleaned_by_pclass[children_info_cleaned_by_pclass['Survived'] == 1])\n",
    "    return number_of_survival_children,len(children_info_cleaned_by_pclass)\n",
    "\n",
    "# Function to compute number of survival children and its percentage along with passenger class\n",
    "def adult_survival_info(passenger_info_cleaned, age_thres, pclass):\n",
    "    # input: passenger_info_cleaned - passenger information\n",
    "    #        age_thres - age cutoff point\n",
    "    #        pclass - passenger class\n",
    "    # Output: Number of survival children and its percentage\n",
    "    passenger_info_cleaned_by_pclass= passenger_info_cleaned[passenger_info_cleaned['Pclass'] ==pclass]\n",
    "    adult_info_cleaned_by_pclass = passenger_info_cleaned_by_pclass[passenger_info_cleaned_by_pclass['Age']>=age_thres]\n",
    "    number_of_survival_adult = len(adult_info_cleaned_by_pclass[adult_info_cleaned_by_pclass['Survived'] == 1])\n",
    "    return number_of_survival_adult, len(adult_info_cleaned_by_pclass)\n",
    "    "
   ]
  },
  {
   "cell_type": "code",
   "execution_count": 183,
   "metadata": {
    "collapsed": false
   },
   "outputs": [
    {
     "data": {
      "image/png": "[encoded data removed]",
      "text/plain": [
       "<matplotlib.figure.Figure at 0x12ad87b8>"
      ]
     },
     "metadata": {},
     "output_type": "display_data"
    },
    {
     "data": {
      "image/png": "[encoded data removed]",
      "text/plain": [
       "<matplotlib.figure.Figure at 0x12858e48>"
      ]
     },
     "metadata": {},
     "output_type": "display_data"
    }
   ],
   "source": [
    "children_info_cleaned = passenger_info_cleaned[passenger_info_cleaned['Age']<18]\n",
    "g = sns.factorplot('Survived', col='Pclass', data=children_info_cleaned, kind='count', size=7, aspect=.8)\n",
    "\n",
    "# Fix up the labels\n",
    "(g.set_axis_labels('Children suvivors', 'No. of Children Passengers')\n",
    "    .set_xticklabels(['False', 'True'])\n",
    ")\n",
    "titles = ['Class 1', 'Class 2', 'Class 3']\n",
    "for ax, title in zip(g.axes.flat, titles):\n",
    "    ax.set_title(title)\n",
    "\n",
    "adult_info_cleaned = passenger_info_cleaned[passenger_info_cleaned['Age']>=18]\n",
    "g = sns.factorplot('Survived', col='Pclass', data=adult_info_cleaned, kind='count', size=7, aspect=.8)\n",
    "\n",
    "# Fix up the labels\n",
    "(g.set_axis_labels('Adult suvivors', 'No. of Adult Passengers')\n",
    "    .set_xticklabels(['False', 'True'])\n",
    ")\n",
    "titles = ['Class 1', 'Class 2', 'Class 3']\n",
    "for ax, title in zip(g.axes.flat, titles):\n",
    "    ax.set_title(title)\n"
   ]
  },
  {
   "cell_type": "code",
   "execution_count": 202,
   "metadata": {
    "collapsed": false
   },
   "outputs": [
    {
     "name": "stdout",
     "output_type": "stream",
     "text": [
      "Class 1:\n",
      " No. survival children/total children: 11/12\n",
      " No. survival adults/total adults: 111/174\n",
      "\n",
      "Class 2:\n",
      " No. survival children/total children: 21/23\n",
      " No. survival adults/total adults: 62/150\n",
      "\n",
      "Class 3\n",
      " No. survival children/total children: 29/78\n",
      " No. survival adults/total adults: 56/277\n",
      "============================================================================================================================\n"
     ]
    }
   ],
   "source": [
    "print \"Class 1:\\n No. survival children/total children: {}/{}\".format(children_survival_info(passenger_info_cleaned,18,1)[0],children_survival_info(passenger_info_cleaned,18,1)[1])\n",
    "print \" No. survival adults/total adults: {}/{}\\n\".format(adult_survival_info(passenger_info_cleaned,18,1)[0],adult_survival_info(passenger_info_cleaned,18,1)[1])\n",
    "\n",
    "print \"Class 2:\\n No. survival children/total children: {}/{}\".format(children_survival_info(passenger_info_cleaned,18,2)[0],children_survival_info(passenger_info_cleaned,18,2)[1])\n",
    "print \" No. survival adults/total adults: {}/{}\\n\".format(adult_survival_info(passenger_info_cleaned,18,2)[0],adult_survival_info(passenger_info_cleaned,18,2)[1])\n",
    "print \"Class 3\\n No. survival children/total children: {}/{}\".format(children_survival_info(passenger_info_cleaned,18,3)[0],children_survival_info(passenger_info_cleaned,18,3)[1])\n",
    "print \" No. survival adults/total adults: {}/{}\".format(adult_survival_info(passenger_info_cleaned,18,3)[0],adult_survival_info(passenger_info_cleaned,18,3)[1])\n",
    "print \"============================================================================================================================\"\n"
   ]
  },
  {
   "cell_type": "markdown",
   "metadata": {},
   "source": [
    "Based on the analysis above, it appears that the children have a better chance to survive than the adults. While most of the children in class 1 and 2 survived, only 37.17% children in class 3 survived. However this rate still higher than one for adult (20.21%)"
   ]
  },
  {
   "cell_type": "markdown",
   "metadata": {},
   "source": [
    "<h3 align=\"left\" style=\"color:blue\">Conclusion"
   ]
  },
  {
   "cell_type": "markdown",
   "metadata": {},
   "source": [
    "From the results of the analysis, it would appear that passenger class, sex affect to the survival chance when the disaster happened. More specifically, passengers with upper social-economic standing would have more chance to survive. Women had more chance than the men and children had more chance than adults. Those support to the idea that \"women and children first\" when the tragedy occurred. In class 3, more children and women did not survive due to probably their locations.\n"
   ]
  },
  {
   "cell_type": "code",
   "execution_count": null,
   "metadata": {
    "collapsed": true
   },
   "outputs": [],
   "source": []
  }
 ],
 "metadata": {
  "anaconda-cloud": {},
  "kernelspec": {
   "display_name": "Python [conda root]",
   "language": "python",
   "name": "conda-root-py"
  },
  "language_info": {
   "codemirror_mode": {
    "name": "ipython",
    "version": 2
   },
   "file_extension": ".py",
   "mimetype": "text/x-python",
   "name": "python",
   "nbconvert_exporter": "python",
   "pygments_lexer": "ipython2",
   "version": "2.7.12"
  }
 },
 "nbformat": 4,
 "nbformat_minor": 0
}
